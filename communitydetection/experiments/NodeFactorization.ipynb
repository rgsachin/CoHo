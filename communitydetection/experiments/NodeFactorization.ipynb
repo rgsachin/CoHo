{
 "cells": [
  {
   "cell_type": "code",
   "execution_count": 2,
   "metadata": {
    "collapsed": true
   },
   "outputs": [],
   "source": [
    "import numpy as np\n",
    "from sklearn.decomposition import NMF\n",
    "from sklearn import preprocessing\n",
    "import matplotlib.pyplot as plt\n",
    "min_max_scaler=preprocessing.MinMaxScaler()\n",
    "import warnings\n",
    "warnings.filterwarnings('ignore')\n",
    "import glob"
   ]
  },
  {
   "cell_type": "code",
   "execution_count": 3,
   "metadata": {
    "collapsed": true
   },
   "outputs": [],
   "source": [
    "maxNoOfCircle = 30"
   ]
  },
  {
   "cell_type": "code",
   "execution_count": 4,
   "metadata": {
    "collapsed": true
   },
   "outputs": [],
   "source": [
    "nodeLookUp={}\n",
    "nodeIdx=-1\n",
    "def getNodeId(rawId):\n",
    "    global nodeIdx\n",
    "    if rawId in nodeLookUp:\n",
    "        nodeId = nodeLookUp[rawId]\n",
    "    else:\n",
    "        nodeIdx=1+nodeIdx\n",
    "        nodeId = nodeIdx\n",
    "        nodeLookUp[rawId] = nodeId\n",
    "    return nodeId"
   ]
  },
  {
   "cell_type": "code",
   "execution_count": 5,
   "metadata": {
    "collapsed": false
   },
   "outputs": [],
   "source": [
    "noOfNodes=100\n",
    "noOfTestSamples=int(0.2*noOfNodes)\n",
    "testSetExpected=np.zeros((noOfNodes,noOfNodes))\n",
    "testSetIdxs=np.random.randint(0,noOfNodes-1,noOfTestSamples)\n",
    "\n",
    "def initForCircle():\n",
    "    global nodeLookUp\n",
    "    global nodeIdx\n",
    "    nodeLookUp={}\n",
    "    nodeIdx=-1\n",
    "    "
   ]
  },
  {
   "cell_type": "code",
   "execution_count": 6,
   "metadata": {
    "collapsed": false
   },
   "outputs": [],
   "source": [
    "def loadCircle(circleFile):\n",
    "    global noOfTestSamples\n",
    "    global testSetExpected\n",
    "    global testSetIdxs\n",
    "    global nodeLookUp\n",
    "    global noOfNodes\n",
    "    circles = open(circleFile, 'r')\n",
    "    for circle in circles:\n",
    "        nodesInCircle = circle.split()[1:]\n",
    "        for node in nodesInCircle:\n",
    "            getNodeId(node)\n",
    "    noOfNodes=len(nodeLookUp)\n",
    "    print 'noOfNodes:',noOfNodes\n",
    "    noOfTestSamples=int(noOfNodes/5)\n",
    "    testSetExpected=np.zeros((noOfNodes,noOfNodes))\n",
    "    testSetIdxs=np.random.randint(0,noOfNodes-1,noOfTestSamples)\n"
   ]
  },
  {
   "cell_type": "code",
   "execution_count": 7,
   "metadata": {
    "collapsed": false,
    "scrolled": false
   },
   "outputs": [],
   "source": [
    "def bigClam(utilMat,noOfCircles):\n",
    "    global noOfNodes\n",
    "    global nodeLookUp\n",
    "    error1={}\n",
    "    error2={}\n",
    "    P_C={}\n",
    "    ssd={}\n",
    "    testSSE={}\n",
    "    earlyStop=-1\n",
    "    for k in range(1,maxNoOfCircle):\n",
    "        P_C[k]=0\n",
    "        #print 'to fit util mat with k',utilMat.shape,k\n",
    "        model = NMF(n_components=k,nls_max_iter=10000,solver='cd',l1_ratio=1,alpha=0.7,init='nndsvd',tol=0.000001)\n",
    "        F = model.fit_transform(utilMat)\n",
    "        error1[k]=model.reconstruction_err_\n",
    "        error2[k]=0\n",
    "        nodeCircleProbs = np.zeros((noOfNodes,k))\n",
    "        for i in range(k):\n",
    "            circleModel = NMF(n_components=1,solver='cd',l1_ratio=0,alpha=1,tol=0.000001,init='nndsvd',nls_max_iter=10000,max_iter=10000)\n",
    "            F_=F[:,i].reshape(len(F[:,i]),1)\n",
    "            F_ab_=F_*np.transpose(F_)\n",
    "            min_max_scaler.fit([0, 100])\n",
    "            neg_F_ab_=-1*min_max_scaler.transform(F_ab_)*100\n",
    "            exp_F_ab_=np.exp(neg_F_ab_)\n",
    "            nodeCircleProbPrime = min_max_scaler.fit_transform(circleModel.fit_transform(exp_F_ab_))\n",
    "            nodeCircleProb=1-nodeCircleProbPrime\n",
    "            nodeCircleProbs[:,i]=nodeCircleProb.reshape(len(nodeLookUp))\n",
    "            P_c=reduce(lambda y,x: np.log(np.maximum(x,0.00000000000000000000000001))+np.log(np.maximum(1-x,0.0000000000000000000001)),nodeCircleProb)\n",
    "            P_C[k]=P_C[k]+P_c\n",
    "            error2[k]=error2[k]+circleModel.reconstruction_err_\n",
    "        reconstructedUtilMat=np.zeros((noOfNodes,noOfNodes))\n",
    "        testSetActual=np.zeros((noOfNodes,noOfNodes))\n",
    "        hardNodeInCircle = nodeCircleProbs > 0.5\n",
    "        hardNodeInCircle = hardNodeInCircle.astype(int)\n",
    "        for n1 in range(noOfNodes):\n",
    "            for n2 in range(noOfNodes):\n",
    "                if (n1 in testSetIdxs) and (n2 in testSetIdxs):\n",
    "                    testSetActual[n1,n2] = 1 - np.prod(1-np.multiply(hardNodeInCircle[n1],hardNodeInCircle[n2]))\n",
    "                    #print testSetActual[n1,n2]\n",
    "        testSSE[k]=np.sum((testSetExpected-testSetActual)**2)\n",
    "        for n1 in range(noOfNodes):\n",
    "            for n2 in range(noOfNodes):\n",
    "                reconstructedUtilMat[n1,n2]=1 - np.prod(1-np.multiply(hardNodeInCircle[n1],hardNodeInCircle[n2]))\n",
    "        ssd[k]=np.sum(((utilMat/100)-reconstructedUtilMat)**2)\n",
    "        #print k\"\"\",P_C[k],error1[k],error2[k]\"\"\",ssd[k],\"\"\"np.sum(nodeCircleProbs),\"\"\"testSSE[k],np.sum(testSetActual)\n",
    "        #print k,ssd[k],testSSE[k],np.sum(testSetActual)\n",
    "        if earlyStop==-1:\n",
    "            earlyStop = ssd[k]\n",
    "        elif ssd[k]>earlyStop:\n",
    "            break\n",
    "    print np.argmin(ssd),np.argmin(testSSE)\n",
    "    return np.argmin(ssd),np.argmin(testSSE)\n",
    "    "
   ]
  },
  {
   "cell_type": "code",
   "execution_count": 8,
   "metadata": {
    "collapsed": false
   },
   "outputs": [],
   "source": [
    "def loadUtilMatrix(circleFile):\n",
    "    global nodeLookUp\n",
    "    print 'circleFile:',circleFile\n",
    "    utilMat = np.zeros((len(nodeLookUp),len(nodeLookUp)))\n",
    "    circles = open(circleFile, 'r')\n",
    "    np.set_printoptions(threshold=1000)\n",
    "    noOfCircles=0\n",
    "    for circle in circles:\n",
    "        noOfCircles=noOfCircles+1\n",
    "        nodesInCircle = circle.split()\n",
    "        nodesInCircle = nodesInCircle[1:]\n",
    "        print len(nodesInCircle)\n",
    "        for node1 in nodesInCircle:\n",
    "            for node2 in nodesInCircle:\n",
    "                node1Idx=getNodeId(node1)\n",
    "                node2Idx=getNodeId(node2)\n",
    "                lnPab_=100\n",
    "                if (node1Idx in testSetIdxs) and (node2Idx in testSetIdxs):\n",
    "                    lnPab_=0.69314718056 #P_ab = 0.5\n",
    "                    testSetExpected[node1Idx,node2Idx]=1\n",
    "                utilMat[node1Idx,node2Idx]=lnPab_\n",
    "                utilMat[node1Idx,node2Idx]=utilMat[node1Idx,node2Idx]\n",
    "    print 'circles.size',noOfCircles\n",
    "    return utilMat,noOfCircles\n"
   ]
  },
  {
   "cell_type": "code",
   "execution_count": 10,
   "metadata": {
    "collapsed": false,
    "scrolled": false
   },
   "outputs": [],
   "source": [
    "for circleFile in glob.glob('../data/circles/*.circles'):\n",
    "    initForCircle()\n",
    "    loadCircle(circleFile)\n",
    "    utilMat,noOfCircles = loadUtilMatrix(circleFile)\n",
    "    k_ssd,k_testSSE=bigClam(utilMat,noOfCircles)\n",
    "    print 'circle - actual,predicted',noOfCircles,k_ssd,k_testSSE"
   ]
  },
  {
   "cell_type": "code",
   "execution_count": 11,
   "metadata": {
    "collapsed": false,
    "scrolled": false
   },
   "outputs": [
    {
     "ename": "NameError",
     "evalue": "name 'ssd' is not defined",
     "output_type": "error",
     "traceback": [
      "\u001b[0;31m---------------------------------------------------------------------------\u001b[0m",
      "\u001b[0;31mNameError\u001b[0m                                 Traceback (most recent call last)",
      "\u001b[0;32m<ipython-input-11-a91b5c82cd6d>\u001b[0m in \u001b[0;36m<module>\u001b[0;34m()\u001b[0m\n\u001b[1;32m      7\u001b[0m \u001b[1;33m\u001b[0m\u001b[0m\n\u001b[1;32m      8\u001b[0m \u001b[1;31m#plotHist(P_C)\u001b[0m\u001b[1;33m\u001b[0m\u001b[1;33m\u001b[0m\u001b[0m\n\u001b[0;32m----> 9\u001b[0;31m \u001b[0mplotHist\u001b[0m\u001b[1;33m(\u001b[0m\u001b[0mssd\u001b[0m\u001b[1;33m)\u001b[0m\u001b[1;33m\u001b[0m\u001b[0m\n\u001b[0m\u001b[1;32m     10\u001b[0m \u001b[0mplotHist\u001b[0m\u001b[1;33m(\u001b[0m\u001b[0mtestSSE\u001b[0m\u001b[1;33m)\u001b[0m\u001b[1;33m\u001b[0m\u001b[0m\n\u001b[1;32m     11\u001b[0m \u001b[1;33m\u001b[0m\u001b[0m\n",
      "\u001b[0;31mNameError\u001b[0m: name 'ssd' is not defined"
     ]
    }
   ],
   "source": [
    "%matplotlib inline\n",
    "\n",
    "def plotHist(dictValues):\n",
    "    plt.bar(range(len(dictValues)), dictValues.values())\n",
    "    plt.xticks(range(len(dictValues)), dictValues.keys())\n",
    "    plt.show()\n",
    "\n",
    "#plotHist(P_C)\n",
    "plotHist(ssd)\n",
    "plotHist(testSSE)\n",
    "\n"
   ]
  },
  {
   "cell_type": "code",
   "execution_count": null,
   "metadata": {
    "collapsed": false
   },
   "outputs": [],
   "source": []
  },
  {
   "cell_type": "code",
   "execution_count": null,
   "metadata": {
    "collapsed": true
   },
   "outputs": [],
   "source": []
  },
  {
   "cell_type": "code",
   "execution_count": null,
   "metadata": {
    "collapsed": true
   },
   "outputs": [],
   "source": []
  }
 ],
 "metadata": {
  "kernelspec": {
   "display_name": "Python 2",
   "language": "python",
   "name": "python2"
  },
  "language_info": {
   "codemirror_mode": {
    "name": "ipython",
    "version": 2
   },
   "file_extension": ".py",
   "mimetype": "text/x-python",
   "name": "python",
   "nbconvert_exporter": "python",
   "pygments_lexer": "ipython2",
   "version": "2.7.11"
  }
 },
 "nbformat": 4,
 "nbformat_minor": 1
}
