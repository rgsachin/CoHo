{
 "cells": [
  {
   "cell_type": "code",
   "execution_count": 19,
   "metadata": {
    "collapsed": false
   },
   "outputs": [
    {
     "name": "stderr",
     "output_type": "stream",
     "text": [
      "C:\\Python27\\lib\\site-packages\\sklearn\\model_selection\\_split.py:579: Warning: The least populated class in y has only 2 members, which is too few. The minimum number of groups for any class cannot be less than n_splits=3.\n",
      "  % (min_groups, self.n_splits)), Warning)\n"
     ]
    },
    {
     "name": "stdout",
     "output_type": "stream",
     "text": [
      "[ 0.98507463  0.98798799  0.98192771]\n"
     ]
    }
   ],
   "source": [
    "from sklearn.ensemble import GradientBoostingClassifier\n",
    "from sklearn.feature_extraction import DictVectorizer\n",
    "from sklearn.model_selection import cross_val_score\n",
    "import pandas as pd\n",
    "df = pd.DataFrame.from_csv('TRAIN_DATA.CSV',header=0)\n",
    "df=df.head(1000)\n",
    "features = [\"date_str\",\"degrees_from_mean\",\"longitude\",\"latitude\",\"max_temp\",\"min_temp\",\"station_name\"]\n",
    "vec = DictVectorizer()\n",
    "vec.fit(df[features].apply(lambda x: x.to_dict(), axis=1).tolist())\n",
    "X=vec.transform(df[features].apply(lambda x: x.to_dict(), axis=1).tolist())  \n",
    "Y = df[\"type\"]\n",
    "clf = GradientBoostingClassifier()\n",
    "print cross_val_score(clf, X.toarray(), Y)"
   ]
  },
  {
   "cell_type": "code",
   "execution_count": null,
   "metadata": {
    "collapsed": true
   },
   "outputs": [],
   "source": []
  }
 ],
 "metadata": {
  "kernelspec": {
   "display_name": "Python 2",
   "language": "python",
   "name": "python2"
  },
  "language_info": {
   "codemirror_mode": {
    "name": "ipython",
    "version": 2
   },
   "file_extension": ".py",
   "mimetype": "text/x-python",
   "name": "python",
   "nbconvert_exporter": "python",
   "pygments_lexer": "ipython2",
   "version": "2.7.11"
  }
 },
 "nbformat": 4,
 "nbformat_minor": 1
}
